{
 "cells": [
  {
   "cell_type": "markdown",
   "metadata": {},
   "source": [
    "# Factorization Machine example"
   ]
  },
  {
   "cell_type": "code",
   "execution_count": 13,
   "metadata": {},
   "outputs": [],
   "source": [
    "import numpy as np\n",
    "import pandas as pd\n",
    "from sklearn.metrics import mean_squared_error\n",
    "from reco.datasets import loadMovieLens100k\n",
    "from reco.recommender import FM"
   ]
  },
  {
   "cell_type": "markdown",
   "metadata": {},
   "source": [
    "### At first we'll test only with the bare minimum *userId*, *itemId* and *rating* columns."
   ]
  },
  {
   "cell_type": "code",
   "execution_count": 14,
   "metadata": {
    "scrolled": true
   },
   "outputs": [
    {
     "data": {
      "text/html": [
       "<div>\n",
       "<style scoped>\n",
       "    .dataframe tbody tr th:only-of-type {\n",
       "        vertical-align: middle;\n",
       "    }\n",
       "\n",
       "    .dataframe tbody tr th {\n",
       "        vertical-align: top;\n",
       "    }\n",
       "\n",
       "    .dataframe thead th {\n",
       "        text-align: right;\n",
       "    }\n",
       "</style>\n",
       "<table border=\"1\" class=\"dataframe\">\n",
       "  <thead>\n",
       "    <tr style=\"text-align: right;\">\n",
       "      <th></th>\n",
       "      <th>userId</th>\n",
       "      <th>itemId</th>\n",
       "      <th>rating</th>\n",
       "    </tr>\n",
       "  </thead>\n",
       "  <tbody>\n",
       "    <tr>\n",
       "      <th>count</th>\n",
       "      <td>90570.000000</td>\n",
       "      <td>90570.000000</td>\n",
       "      <td>90570.000000</td>\n",
       "    </tr>\n",
       "    <tr>\n",
       "      <th>mean</th>\n",
       "      <td>461.494038</td>\n",
       "      <td>428.104891</td>\n",
       "      <td>3.523827</td>\n",
       "    </tr>\n",
       "    <tr>\n",
       "      <th>std</th>\n",
       "      <td>266.004364</td>\n",
       "      <td>333.088029</td>\n",
       "      <td>1.126073</td>\n",
       "    </tr>\n",
       "    <tr>\n",
       "      <th>min</th>\n",
       "      <td>1.000000</td>\n",
       "      <td>1.000000</td>\n",
       "      <td>1.000000</td>\n",
       "    </tr>\n",
       "    <tr>\n",
       "      <th>25%</th>\n",
       "      <td>256.000000</td>\n",
       "      <td>174.000000</td>\n",
       "      <td>3.000000</td>\n",
       "    </tr>\n",
       "    <tr>\n",
       "      <th>50%</th>\n",
       "      <td>442.000000</td>\n",
       "      <td>324.000000</td>\n",
       "      <td>4.000000</td>\n",
       "    </tr>\n",
       "    <tr>\n",
       "      <th>75%</th>\n",
       "      <td>682.000000</td>\n",
       "      <td>636.000000</td>\n",
       "      <td>4.000000</td>\n",
       "    </tr>\n",
       "    <tr>\n",
       "      <th>max</th>\n",
       "      <td>943.000000</td>\n",
       "      <td>1682.000000</td>\n",
       "      <td>5.000000</td>\n",
       "    </tr>\n",
       "  </tbody>\n",
       "</table>\n",
       "</div>"
      ],
      "text/plain": [
       "             userId        itemId        rating\n",
       "count  90570.000000  90570.000000  90570.000000\n",
       "mean     461.494038    428.104891      3.523827\n",
       "std      266.004364    333.088029      1.126073\n",
       "min        1.000000      1.000000      1.000000\n",
       "25%      256.000000    174.000000      3.000000\n",
       "50%      442.000000    324.000000      4.000000\n",
       "75%      682.000000    636.000000      4.000000\n",
       "max      943.000000   1682.000000      5.000000"
      ]
     },
     "execution_count": 14,
     "metadata": {},
     "output_type": "execute_result"
    }
   ],
   "source": [
    "train, test, _, _ = loadMovieLens100k(train_test_split=True)\n",
    "train.describe()"
   ]
  },
  {
   "cell_type": "markdown",
   "metadata": {},
   "source": [
    "So we have the user ids, item ids and the respective ratings in the 3 columns. Next we need to separate the rating column since we are going to predict that. Also we need to explicitly set the column data type to string for *userId* and *itemId* so that the model treats them as categorical variables, not integers. We'll do this for both the train and test sets."
   ]
  },
  {
   "cell_type": "code",
   "execution_count": 15,
   "metadata": {},
   "outputs": [],
   "source": [
    "y_train = train['rating']\n",
    "train.drop(['rating'], axis=1, inplace=True)\n",
    "\n",
    "train['userId'] = train['userId'].astype('str')\n",
    "train['itemId'] = train['itemId'].astype('str')\n",
    "\n",
    "y_test = test['rating']\n",
    "test.drop(['rating'], axis=1, inplace=True)\n",
    "\n",
    "test['userId'] = test['userId'].astype('str')\n",
    "test['itemId'] = test['itemId'].astype('str')"
   ]
  },
  {
   "cell_type": "markdown",
   "metadata": {},
   "source": [
    "Next we'll train the model. We choose 60 iterations here. Tweak the hyperparameters to get the best performance."
   ]
  },
  {
   "cell_type": "code",
   "execution_count": 16,
   "metadata": {},
   "outputs": [
    {
     "name": "stdout",
     "output_type": "stream",
     "text": [
      "epoch 0 time 0.6695690155029297 mse 1.103635986616477\n",
      "epoch 1 time 0.6391921043395996 mse 0.9915833703974116\n",
      "epoch 2 time 0.6295511722564697 mse 0.9439610213225902\n",
      "epoch 3 time 0.6386301517486572 mse 0.9179175311761331\n",
      "epoch 4 time 0.6657459735870361 mse 0.9010386788424799\n",
      "epoch 5 time 0.6070492267608643 mse 0.8888732411739291\n",
      "epoch 6 time 0.6132230758666992 mse 0.879493405204137\n",
      "epoch 7 time 0.7943868637084961 mse 0.8719075818141927\n",
      "epoch 8 time 0.818760871887207 mse 0.8655493500405546\n",
      "epoch 9 time 0.6596410274505615 mse 0.8600582403325009\n",
      "epoch 10 time 0.6409389972686768 mse 0.8551827870234563\n",
      "epoch 11 time 0.6452288627624512 mse 0.8507407151685272\n",
      "epoch 12 time 0.6655309200286865 mse 0.8465936124655455\n",
      "epoch 13 time 0.658170223236084 mse 0.8426295615217765\n",
      "epoch 14 time 0.7007808685302734 mse 0.8387568052885036\n",
      "epoch 15 time 0.6789200305938721 mse 0.8348947658203087\n",
      "epoch 16 time 0.6594047546386719 mse 0.8309731470754939\n",
      "epoch 17 time 0.7430441379547119 mse 0.8269270674085164\n",
      "epoch 18 time 0.7144060134887695 mse 0.8226982529545698\n",
      "epoch 19 time 0.6797370910644531 mse 0.8182347554433423\n",
      "epoch 20 time 0.7026538848876953 mse 0.8134923910121088\n",
      "epoch 21 time 0.6942660808563232 mse 0.808437076883032\n",
      "epoch 22 time 0.685272216796875 mse 0.803047595344738\n",
      "epoch 23 time 0.6958498954772949 mse 0.7973181325902874\n",
      "epoch 24 time 0.6714355945587158 mse 0.7912576083578036\n",
      "epoch 25 time 0.6701550483703613 mse 0.7848934650709704\n",
      "epoch 26 time 0.7200491428375244 mse 0.7782675808980299\n",
      "epoch 27 time 0.6549158096313477 mse 0.7714330842206988\n",
      "epoch 28 time 0.6280348300933838 mse 0.7644494966625566\n",
      "epoch 29 time 0.6124892234802246 mse 0.7573747632558473\n",
      "epoch 30 time 0.6128888130187988 mse 0.7502662164581325\n",
      "epoch 31 time 0.6177217960357666 mse 0.7431718349567391\n",
      "epoch 32 time 0.6176478862762451 mse 0.7361272014411485\n",
      "epoch 33 time 0.6075248718261719 mse 0.7291643882508722\n",
      "epoch 34 time 0.61155104637146 mse 0.7223067722611399\n",
      "epoch 35 time 0.6524150371551514 mse 0.7155733628677946\n",
      "epoch 36 time 0.6557750701904297 mse 0.708977492713798\n",
      "epoch 37 time 0.6576921939849854 mse 0.7025324468896562\n",
      "epoch 38 time 0.6649200916290283 mse 0.6962451343238928\n",
      "epoch 39 time 0.6343469619750977 mse 0.6901170682647974\n",
      "epoch 40 time 0.637620210647583 mse 0.6841580828028414\n",
      "epoch 41 time 0.6696679592132568 mse 0.6783739407300369\n",
      "epoch 42 time 0.6728761196136475 mse 0.6727664763389368\n",
      "epoch 43 time 0.6849391460418701 mse 0.6673354931538427\n",
      "epoch 44 time 0.6332032680511475 mse 0.6620795686409201\n",
      "epoch 45 time 0.6191260814666748 mse 0.6569964939380741\n",
      "epoch 46 time 0.6163730621337891 mse 0.652082135125769\n",
      "epoch 47 time 0.608665943145752 mse 0.6473306689127363\n",
      "epoch 48 time 0.613004207611084 mse 0.6427400996255225\n",
      "epoch 49 time 0.6118049621582031 mse 0.638305441885176\n",
      "epoch 50 time 0.6209709644317627 mse 0.6340211536932525\n",
      "epoch 51 time 0.6084461212158203 mse 0.6298819395087817\n",
      "epoch 52 time 0.6102199554443359 mse 0.6258850841093806\n",
      "epoch 53 time 0.6181027889251709 mse 0.6220223152722894\n",
      "epoch 54 time 0.6116111278533936 mse 0.6182871967173849\n",
      "epoch 55 time 0.6205499172210693 mse 0.6146743921999718\n",
      "epoch 56 time 0.6239299774169922 mse 0.6111814064027205\n",
      "epoch 57 time 0.6209380626678467 mse 0.6078020599187192\n",
      "epoch 58 time 0.6189351081848145 mse 0.6045302800129906\n",
      "epoch 59 time 0.6088037490844727 mse 0.6013625839043143\n"
     ]
    }
   ],
   "source": [
    "f = FM(k=10, iterations = 60, learning_rate = 0.003, regularizer=0.005)\n",
    "f.fit(X=train, y=y_train)"
   ]
  },
  {
   "cell_type": "code",
   "execution_count": 17,
   "metadata": {},
   "outputs": [
    {
     "name": "stdout",
     "output_type": "stream",
     "text": [
      "MSE: 0.917503526572731\n"
     ]
    }
   ],
   "source": [
    "y_pred = f.predict(test)\n",
    "print(\"MSE: {}\".format(mean_squared_error(y_test, y_pred)))"
   ]
  },
  {
   "cell_type": "markdown",
   "metadata": {},
   "source": [
    "### Now we'll try with all the columns and train our model on the whole dataset."
   ]
  },
  {
   "cell_type": "code",
   "execution_count": 18,
   "metadata": {},
   "outputs": [
    {
     "name": "stdout",
     "output_type": "stream",
     "text": [
      "  userId itemId  rating  age gender  occupation  5  6  7  8  ...  14  15  16  \\\n",
      "0      1      1     5.0   24      M  technician  0  0  0  1  ...   0   0   0   \n",
      "1      2      1     4.0   53      F       other  0  0  0  1  ...   0   0   0   \n",
      "2      6      1     4.0   42      M   executive  0  0  0  1  ...   0   0   0   \n",
      "3     10      1     4.0   53      M      lawyer  0  0  0  1  ...   0   0   0   \n",
      "4     13      1     3.0   47      M    educator  0  0  0  1  ...   0   0   0   \n",
      "\n",
      "   17  18  19  20  21  22  23  \n",
      "0   0   0   0   0   0   0   0  \n",
      "1   0   0   0   0   0   0   0  \n",
      "2   0   0   0   0   0   0   0  \n",
      "3   0   0   0   0   0   0   0  \n",
      "4   0   0   0   0   0   0   0  \n",
      "\n",
      "[5 rows x 25 columns]\n"
     ]
    }
   ],
   "source": [
    "train, test, _, _ = loadMovieLens100k(train_test_split=True, all_columns=True)\n",
    "print(train.head())"
   ]
  },
  {
   "cell_type": "markdown",
   "metadata": {},
   "source": [
    "This time, we also need to change the data type of the columns *gender* and *occupation* to string so that they are treated as categorical variables and hence one-hot encoded."
   ]
  },
  {
   "cell_type": "code",
   "execution_count": 19,
   "metadata": {},
   "outputs": [],
   "source": [
    "y_train = train['rating']\n",
    "train.drop(['rating'], axis=1, inplace=True)\n",
    "train['userId'] = train['userId'].astype('str')\n",
    "train['itemId'] = train['itemId'].astype('str')\n",
    "train['gender'] = train['gender'].astype('str')\n",
    "train['occupation'] = train['occupation'].astype('str')\n",
    "\n",
    "\n",
    "y_test = test['rating']\n",
    "test.drop(['rating'], axis=1, inplace=True)\n",
    "test['userId'] = test['userId'].astype('str')\n",
    "test['itemId'] = test['itemId'].astype('str')\n",
    "test['gender'] = test['gender'].astype('str')\n",
    "test['occupation'] = test['occupation'].astype('str')"
   ]
  },
  {
   "cell_type": "markdown",
   "metadata": {},
   "source": [
    "Before training, we also need to normalize the age column since the values are greatly different from the other columns and hence will hamper the performance of the model. We choose min-max normaliztion here."
   ]
  },
  {
   "cell_type": "code",
   "execution_count": 20,
   "metadata": {},
   "outputs": [],
   "source": [
    "train['age'] = (train['age']-train['age'].min())/(train['age'].max()-train['age'].min())\n",
    "test['age'] = (test['age']-test['age'].min())/(test['age'].max()-test['age'].min())"
   ]
  },
  {
   "cell_type": "code",
   "execution_count": 21,
   "metadata": {},
   "outputs": [
    {
     "name": "stdout",
     "output_type": "stream",
     "text": [
      "epoch 0 time 2.8004140853881836 mse 1.000345198100816\n",
      "epoch 1 time 2.876314163208008 mse 0.926330813517465\n",
      "epoch 2 time 2.8077518939971924 mse 0.8956873431878055\n",
      "epoch 3 time 2.8738458156585693 mse 0.8774932518050282\n",
      "epoch 4 time 2.8108808994293213 mse 0.8641899815328599\n",
      "epoch 5 time 2.795496940612793 mse 0.8532059220237216\n",
      "epoch 6 time 2.9185550212860107 mse 0.8434474024775377\n",
      "epoch 7 time 2.8622257709503174 mse 0.8344279848713625\n",
      "epoch 8 time 2.8102173805236816 mse 0.8259066922947447\n",
      "epoch 9 time 2.8238000869750977 mse 0.8177314068749388\n",
      "epoch 10 time 2.7962749004364014 mse 0.8097984702929173\n",
      "epoch 11 time 2.821711778640747 mse 0.8020400103147397\n",
      "epoch 12 time 2.8062620162963867 mse 0.794413201353103\n",
      "epoch 13 time 2.8096868991851807 mse 0.7868945339707508\n",
      "epoch 14 time 2.7938878536224365 mse 0.7794747118789921\n",
      "epoch 15 time 2.7710390090942383 mse 0.7721539719413844\n",
      "epoch 16 time 2.8009660243988037 mse 0.7649335354446439\n",
      "epoch 17 time 2.789910078048706 mse 0.7578306061799868\n",
      "epoch 18 time 2.778834104537964 mse 0.7508595133898918\n",
      "epoch 19 time 2.7822909355163574 mse 0.7440324950601701\n",
      "epoch 20 time 2.7728168964385986 mse 0.7373632449348833\n",
      "epoch 21 time 2.7718122005462646 mse 0.7308619014597423\n",
      "epoch 22 time 2.7583470344543457 mse 0.7245367787612227\n",
      "epoch 23 time 2.7818753719329834 mse 0.7183932302185697\n",
      "epoch 24 time 2.7633297443389893 mse 0.7124317045398415\n",
      "epoch 25 time 2.7698121070861816 mse 0.7066525148851932\n",
      "epoch 26 time 2.7578041553497314 mse 0.70105722137012\n",
      "epoch 27 time 2.7701222896575928 mse 0.6956392865030305\n",
      "epoch 28 time 3.0782878398895264 mse 0.6903930033253404\n",
      "epoch 29 time 2.9679129123687744 mse 0.6853131298113199\n",
      "epoch 30 time 2.962999105453491 mse 0.6803932386961798\n",
      "epoch 31 time 2.931157112121582 mse 0.6756234712489761\n",
      "epoch 32 time 2.7987170219421387 mse 0.6710038729420305\n",
      "epoch 33 time 4.363901853561401 mse 0.6665242164163729\n",
      "epoch 34 time 3.66998291015625 mse 0.6621771828964539\n",
      "epoch 35 time 3.1161139011383057 mse 0.657960262666945\n",
      "epoch 36 time 2.9844179153442383 mse 0.6538698030786824\n",
      "epoch 37 time 3.3525888919830322 mse 0.6499029254758165\n",
      "epoch 38 time 3.315199851989746 mse 0.6460537667317303\n",
      "epoch 39 time 3.1438710689544678 mse 0.642317812193621\n",
      "epoch 40 time 3.010453939437866 mse 0.6386904157613693\n",
      "epoch 41 time 2.861362934112549 mse 0.6351694776602195\n",
      "epoch 42 time 2.7602579593658447 mse 0.6317515789431355\n",
      "epoch 43 time 2.756033182144165 mse 0.6284338675161346\n",
      "epoch 44 time 2.7655181884765625 mse 0.6252147853756643\n",
      "epoch 45 time 2.7565817832946777 mse 0.6220902083561869\n",
      "epoch 46 time 2.7742509841918945 mse 0.6190548617094814\n",
      "epoch 47 time 2.7608439922332764 mse 0.6161067146266289\n",
      "epoch 48 time 2.7605438232421875 mse 0.6132436104014537\n",
      "epoch 49 time 3.0783770084381104 mse 0.6104631068083224\n",
      "epoch 50 time 3.907456159591675 mse 0.607762532818643\n",
      "epoch 51 time 3.047072172164917 mse 0.6051383561261744\n",
      "epoch 52 time 3.0859601497650146 mse 0.6025896476365925\n",
      "epoch 53 time 2.811802864074707 mse 0.60011439085511\n",
      "epoch 54 time 2.9311180114746094 mse 0.5977089202054491\n",
      "epoch 55 time 3.210513114929199 mse 0.5953706989456803\n",
      "epoch 56 time 3.685882091522217 mse 0.5930969913441431\n",
      "epoch 57 time 3.063591957092285 mse 0.5908841196801492\n",
      "epoch 58 time 2.9751460552215576 mse 0.5887315910395873\n",
      "epoch 59 time 2.986191749572754 mse 0.5866376354966012\n"
     ]
    }
   ],
   "source": [
    "f = FM(k=10, iterations = 60, learning_rate = 0.003, regularizer=0.005)\n",
    "f.fit(X=train, y=y_train)"
   ]
  },
  {
   "cell_type": "code",
   "execution_count": 22,
   "metadata": {},
   "outputs": [
    {
     "name": "stdout",
     "output_type": "stream",
     "text": [
      "MSE: 1.0451905865379454\n"
     ]
    }
   ],
   "source": [
    "y_pred = f.predict(test)\n",
    "print(\"MSE: {}\".format(mean_squared_error(y_test, y_pred)))"
   ]
  }
 ],
 "metadata": {
  "kernelspec": {
   "display_name": "Python 3",
   "language": "python",
   "name": "python3"
  },
  "language_info": {
   "codemirror_mode": {
    "name": "ipython",
    "version": 3
   },
   "file_extension": ".py",
   "mimetype": "text/x-python",
   "name": "python",
   "nbconvert_exporter": "python",
   "pygments_lexer": "ipython3",
   "version": "3.8.3"
  }
 },
 "nbformat": 4,
 "nbformat_minor": 2
}
