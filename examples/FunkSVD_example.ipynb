{
 "cells": [
  {
   "cell_type": "markdown",
   "metadata": {},
   "source": [
    "# FunkSVD Recommender example"
   ]
  },
  {
   "cell_type": "markdown",
   "metadata": {},
   "source": [
    "Let's load the modules and data first"
   ]
  },
  {
   "cell_type": "code",
   "execution_count": 1,
   "metadata": {},
   "outputs": [
    {
     "name": "stdout",
     "output_type": "stream",
     "text": [
      "   userId  itemId  rating\n",
      "0       1       1       5\n",
      "1       1       2       3\n",
      "2       1       3       4\n",
      "3       1       4       3\n",
      "4       1       5       3\n"
     ]
    }
   ],
   "source": [
    "from recsys.recommender import FunkSVD\n",
    "from recsys.datasets import loadMovieLens100k\n",
    "from recsys.metrics import rmse\n",
    "\n",
    "import warnings\n",
    "warnings.filterwarnings('ignore')\n",
    "\n",
    "# load the movielens data, we can only use the userid, itemid and rating information in SVD, so we don't need all the columns.\n",
    "train, test, _, _ = loadMovieLens100k(train_test_split=True)\n",
    "\n",
    "print(train.head())"
   ]
  },
  {
   "cell_type": "markdown",
   "metadata": {},
   "source": [
    "Now let's train the model with the train data"
   ]
  },
  {
   "cell_type": "code",
   "execution_count": 2,
   "metadata": {},
   "outputs": [
    {
     "name": "stdout",
     "output_type": "stream",
     "text": [
      "Epoch 0: Error: 0.844157454663562\n",
      "Epoch 1: Error: 0.7822681848331058\n",
      "Epoch 2: Error: 0.7654319700355098\n",
      "Epoch 3: Error: 0.7573448651613245\n",
      "Epoch 4: Error: 0.75247303056629\n"
     ]
    }
   ],
   "source": [
    "f = FunkSVD(k=64, learning_rate=0.006, regularizer = 0.2, iterations = 5, method = 'stochastic', bias=True)\n",
    "f.fit(X=train, formatizer={'user':'userId', 'item':'itemId', 'value':'rating'},verbose=True)"
   ]
  },
  {
   "cell_type": "markdown",
   "metadata": {},
   "source": [
    "Now let's use the trained model to predict ratings on the test set."
   ]
  },
  {
   "cell_type": "code",
   "execution_count": 3,
   "metadata": {},
   "outputs": [
    {
     "name": "stdout",
     "output_type": "stream",
     "text": [
      "time taken 0.014878034591674805 secs\n"
     ]
    }
   ],
   "source": [
    "preds = f.predict(test, formatizer={'user':'userId', 'item':'itemId'})\n",
    "error = rmse(preds, test['rating'])"
   ]
  },
  {
   "cell_type": "code",
   "execution_count": 4,
   "metadata": {},
   "outputs": [
    {
     "name": "stdout",
     "output_type": "stream",
     "text": [
      "0.9749666307888072\n"
     ]
    }
   ],
   "source": [
    "print(error)"
   ]
  },
  {
   "cell_type": "code",
   "execution_count": null,
   "metadata": {},
   "outputs": [],
   "source": []
  }
 ],
 "metadata": {
  "kernelspec": {
   "display_name": "Python 3",
   "language": "python",
   "name": "python3"
  },
  "language_info": {
   "codemirror_mode": {
    "name": "ipython",
    "version": 3
   },
   "file_extension": ".py",
   "mimetype": "text/x-python",
   "name": "python",
   "nbconvert_exporter": "python",
   "pygments_lexer": "ipython3",
   "version": "3.8.3"
  }
 },
 "nbformat": 4,
 "nbformat_minor": 2
}
